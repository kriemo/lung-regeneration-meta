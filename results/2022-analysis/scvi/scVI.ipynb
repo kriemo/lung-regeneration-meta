{
  "nbformat": 4,
  "nbformat_minor": 0,
  "metadata": {
    "colab": {
      "provenance": []
    },
    "kernelspec": {
      "name": "python3",
      "display_name": "Python 3"
    },
    "language_info": {
      "name": "python"
    },
    "accelerator": "GPU",
    "gpuClass": "standard"
  },
  "cells": [
    {
      "cell_type": "code",
      "execution_count": 1,
      "metadata": {
        "colab": {
          "base_uri": "https://localhost:8080/"
        },
        "id": "8xPZKfu9yMHI",
        "outputId": "3346d25d-b198-4c20-9ed8-1929af513308"
      },
      "outputs": [
        {
          "output_type": "stream",
          "name": "stdout",
          "text": [
            "Looking in indexes: https://pypi.org/simple, https://us-python.pkg.dev/colab-wheels/public/simple/\n",
            "Collecting scvi-colab\n",
            "  Downloading scvi_colab-0.11.0-py3-none-any.whl (4.3 kB)\n",
            "Collecting rich\n",
            "  Downloading rich-12.6.0-py3-none-any.whl (237 kB)\n",
            "\u001b[K     |████████████████████████████████| 237 kB 13.9 MB/s \n",
            "\u001b[?25hCollecting commonmark<0.10.0,>=0.9.0\n",
            "  Downloading commonmark-0.9.1-py2.py3-none-any.whl (51 kB)\n",
            "\u001b[K     |████████████████████████████████| 51 kB 9.8 MB/s \n",
            "\u001b[?25hRequirement already satisfied: typing-extensions<5.0,>=4.0.0 in /usr/local/lib/python3.8/dist-packages (from rich->scvi-colab) (4.4.0)\n",
            "Requirement already satisfied: pygments<3.0.0,>=2.6.0 in /usr/local/lib/python3.8/dist-packages (from rich->scvi-colab) (2.6.1)\n",
            "Installing collected packages: commonmark, rich, scvi-colab\n",
            "Successfully installed commonmark-0.9.1 rich-12.6.0 scvi-colab-0.11.0\n",
            "\u001b[34mINFO    \u001b[0m scvi-colab: Installing scvi-tools.                                                                        \n",
            "\u001b[34mINFO    \u001b[0m scvi-colab: Install successful. Testing import.                                                           \n"
          ]
        },
        {
          "output_type": "stream",
          "name": "stderr",
          "text": [
            "INFO:pytorch_lightning.utilities.seed:Global seed set to 0\n",
            "/usr/local/lib/python3.8/dist-packages/pytorch_lightning/utilities/warnings.py:53: LightningDeprecationWarning: pytorch_lightning.utilities.warnings.rank_zero_deprecation has been deprecated in v1.6 and will be removed in v1.8. Use the equivalent function from the pytorch_lightning.utilities.rank_zero module instead.\n",
            "  new_rank_zero_deprecation(\n",
            "/usr/local/lib/python3.8/dist-packages/pytorch_lightning/utilities/warnings.py:58: LightningDeprecationWarning: The `pytorch_lightning.loggers.base.rank_zero_experiment` is deprecated in v1.7 and will be removed in v1.9. Please use `pytorch_lightning.loggers.logger.rank_zero_experiment` instead.\n",
            "  return new_rank_zero_deprecation(*args, **kwargs)\n"
          ]
        }
      ],
      "source": [
        "!pip install scvi-colab\n",
        "\n",
        "from scvi_colab import install\n",
        "\n",
        "# default\n",
        "install()"
      ]
    },
    {
      "cell_type": "markdown",
      "source": [
        "The scvi-colab python package is a lightweight installer for scvi and related tools."
      ],
      "metadata": {
        "id": "01zTmpM5zvp8"
      }
    },
    {
      "cell_type": "code",
      "source": [
        "from google.colab import files\n",
        "files.upload()"
      ],
      "metadata": {
        "id": "MAHcNc0Wztkx"
      },
      "execution_count": null,
      "outputs": []
    },
    {
      "cell_type": "markdown",
      "source": [
        "files.upload() pulls in local files, in this case an h5ad file with the uncorrected data from the 3 studies. This dataset has been filtered to retain the top 2k variable genes. "
      ],
      "metadata": {
        "id": "QFMyQaQZz8ky"
      }
    },
    {
      "cell_type": "code",
      "source": [
        "import scvi\n",
        "import scanpy as sc\n",
        "import numpy as np\n",
        "\n",
        "scvi.settings.seed = 20221217\n",
        "\n",
        "adata = sc.read_h5ad(\"hvg_uc_sce.h5ad\")\n",
        "adata.layers['counts'] = adata.layers['counts'].tocsr()\n",
        "\n",
        "scvi.model.SCVI.setup_anndata(adata,\n",
        "                              layer = 'counts',\n",
        "                              batch_key = 'study')\n",
        "\n",
        "model = scvi.model.SCVI(adata, n_layers = 2, n_latent = 20, gene_likelihood=\"nb\")\n",
        "model.train(use_gpu=True)\n",
        "latent = model.get_latent_representation()\n"
      ],
      "metadata": {
        "id": "R9GUz_AM1BNp"
      },
      "execution_count": 33,
      "outputs": []
    },
    {
      "cell_type": "markdown",
      "source": [
        "Next we'll save this latent representation (~20k by 20) as csv for loading back into R"
      ],
      "metadata": {
        "id": "EjbuKlAt8-yP"
      }
    },
    {
      "cell_type": "code",
      "source": [
        "np.savetxt('scvi.csv.gz', latent, delimiter=',')"
      ],
      "metadata": {
        "id": "WLOrkK689FSP"
      },
      "execution_count": 34,
      "outputs": []
    },
    {
      "cell_type": "code",
      "source": [
        "lvae = scvi.model.SCANVI.from_scvi_model(\n",
        "  model,\n",
        "  adata=adata,\n",
        "  unlabeled_category=\"Unknown\",\n",
        "  labels_key=\"coarse_cell_type\"\n",
        ")\n",
        "\n",
        "# no label subsampling for this smaller dataset\n",
        "lvae.train(max_epochs=20)\n",
        "\n",
        "latent_scanvi = lvae.get_latent_representation(adata)\n",
        "np.savetxt('scanvi.csv.gz', latent_scanvi, delimiter=',')"
      ],
      "metadata": {
        "colab": {
          "base_uri": "https://localhost:8080/"
        },
        "id": "PPJOWUeb_uWN",
        "outputId": "4d080136-905c-49c7-a46c-f35ffe26929c"
      },
      "execution_count": 41,
      "outputs": [
        {
          "output_type": "stream",
          "name": "stdout",
          "text": [
            "\u001b[34mINFO    \u001b[0m Training for \u001b[1;36m20\u001b[0m epochs.                                                                                   \n"
          ]
        },
        {
          "output_type": "stream",
          "name": "stderr",
          "text": [
            "INFO:pytorch_lightning.utilities.rank_zero:GPU available: True (cuda), used: True\n",
            "INFO:pytorch_lightning.utilities.rank_zero:TPU available: False, using: 0 TPU cores\n",
            "INFO:pytorch_lightning.utilities.rank_zero:IPU available: False, using: 0 IPUs\n",
            "INFO:pytorch_lightning.utilities.rank_zero:HPU available: False, using: 0 HPUs\n",
            "INFO:pytorch_lightning.accelerators.cuda:LOCAL_RANK: 0 - CUDA_VISIBLE_DEVICES: [0]\n"
          ]
        },
        {
          "output_type": "stream",
          "name": "stdout",
          "text": [
            "Epoch 20/20: 100%|██████████| 20/20 [01:45<00:00,  5.50s/it, loss=1.08e+03, v_num=1]"
          ]
        },
        {
          "output_type": "stream",
          "name": "stderr",
          "text": [
            "INFO:pytorch_lightning.utilities.rank_zero:`Trainer.fit` stopped: `max_epochs=20` reached.\n"
          ]
        },
        {
          "output_type": "stream",
          "name": "stdout",
          "text": [
            "\rEpoch 20/20: 100%|██████████| 20/20 [01:45<00:00,  5.27s/it, loss=1.08e+03, v_num=1]\n"
          ]
        }
      ]
    }
  ]
}